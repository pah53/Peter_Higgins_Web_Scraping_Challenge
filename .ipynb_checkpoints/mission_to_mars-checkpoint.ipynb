{
 "cells": [
  {
   "cell_type": "code",
   "execution_count": 1,
   "metadata": {},
   "outputs": [],
   "source": [
    "#Importing packages\n",
    "from splinter import Browser\n",
    "import pandas as pd\n",
    "from bs4 import BeautifulSoup\n",
    "import requests\n",
    "import pymongo"
   ]
  },
  {
   "cell_type": "code",
   "execution_count": 2,
   "metadata": {},
   "outputs": [],
   "source": [
    "#Creating connection\n",
    "conn = 'mongodb://localhost:27017'\n",
    "client = pymongo.MongoClient(conn)"
   ]
  },
  {
   "cell_type": "code",
   "execution_count": 3,
   "metadata": {},
   "outputs": [],
   "source": [
    "#Creating database and connection to MongoDB\n",
    "db = client.mars_articles_db\n",
    "collection = db.items"
   ]
  },
  {
   "cell_type": "code",
   "execution_count": 4,
   "metadata": {},
   "outputs": [],
   "source": [
    "#Creating BeautifulSoup connection to Nasa page\n",
    "url='https://mars.nasa.gov/news/?page=0&per_page=40&order=publish_date+desc%2Ccreated_at+desc&search=&category=19%2C165%2C184%2C204&blank_scope=Latest'\n",
    "response = requests.get(url)\n",
    "soup = BeautifulSoup(response.content, 'html.parser')"
   ]
  },
  {
   "cell_type": "code",
   "execution_count": 5,
   "metadata": {},
   "outputs": [
    {
     "name": "stdout",
     "output_type": "stream",
     "text": [
      "-----------------\n",
      "\n",
      "NASA's Mars 2020 Rover Closer to Getting Its Name\n",
      "\n",
      "\n",
      "155 students from across the U.S. have been chosen as semifinalists in NASA's essay contest to name the Mars 2020 rover, and see it launch from Cape Canaveral this July.\n",
      "\n",
      "-----------------\n",
      "\n",
      "NASA Invites Students to Name Mars 2020 Rover\n",
      "\n",
      "\n",
      "Through Nov. 1, K-12 students in the U.S. are encouraged to enter an essay contest to name NASA's next Mars rover.\n",
      "\n",
      "-----------------\n",
      "\n",
      "NASA's Curiosity Mars Rover Finds a Clay Cache\n",
      "\n",
      "\n",
      "The rover recently drilled two samples, and both showed the highest levels of clay ever found during the mission.\n",
      "\n",
      "-----------------\n",
      "\n",
      "Why This Martian Full Moon Looks Like Candy\n",
      "\n",
      "\n",
      "For the first time, NASA's Mars Odyssey orbiter has caught the Martian moon Phobos during a full moon phase. Each color in this new image represents a temperature range detected by Odyssey's infrared camera.\n",
      "\n",
      "-----------------\n",
      "\n",
      "NASA Garners 7 Webby Award Nominations\n",
      "\n",
      "\n",
      "Nominees include four JPL projects: the solar system and climate websites, InSight social media, and a 360-degree Earth video. Public voting closes April 18, 2019.\n",
      "\n",
      "-----------------\n",
      "\n",
      "NASA's Opportunity Rover Mission on Mars Comes to End\n",
      "\n",
      "\n",
      "NASA's Opportunity Mars rover mission is complete after 15 years on Mars. Opportunity's record-breaking exploration laid the groundwork for future missions to the Red Planet.\n",
      "\n"
     ]
    }
   ],
   "source": [
    "titles = []\n",
    "paragraphs = []\n",
    "\n",
    "\n",
    "results = soup.find_all('div', class_='slide')\n",
    "\n",
    "for result in results:\n",
    "    try:\n",
    "        title = result.find('div', class_=\"content_title\" ).a.text\n",
    "        titles.append(title)\n",
    "        paragraph =result.find_all('div', class_=\"rollover_description_inner\")[0].text\n",
    "        paragraphs.append(paragraph)\n",
    "        \n",
    "        print('-----------------')\n",
    "        print(title)\n",
    "        print(paragraph)\n",
    "        \n",
    "    except AttributeError as e:\n",
    "        print(e)\n",
    "        titles_1= titles[1]\n",
    "        paragraphs_1= paragraphs[1]"
   ]
  },
  {
   "cell_type": "code",
   "execution_count": 6,
   "metadata": {},
   "outputs": [
    {
     "name": "stdout",
     "output_type": "stream",
     "text": [
      "/usr/local/bin/chromedriver\r\n"
     ]
    }
   ],
   "source": [
    "#initilizing chromedriver\n",
    "!which chromedriver \n",
    "executable_path = {'executable_path': '/usr/local/bin/chromedriver'}\n",
    "browser = Browser('chrome', **executable_path, headless=False)"
   ]
  },
  {
   "cell_type": "code",
   "execution_count": 7,
   "metadata": {},
   "outputs": [
    {
     "ename": "TypeError",
     "evalue": "'NoneType' object is not subscriptable",
     "output_type": "error",
     "traceback": [
      "\u001b[0;31m---------------------------------------------------------------------------\u001b[0m",
      "\u001b[0;31mTypeError\u001b[0m                                 Traceback (most recent call last)",
      "\u001b[0;32m<ipython-input-7-e142c028bfdf>\u001b[0m in \u001b[0;36m<module>\u001b[0;34m\u001b[0m\n\u001b[1;32m      9\u001b[0m \u001b[0mimg\u001b[0m \u001b[0;34m=\u001b[0m \u001b[0msoup\u001b[0m\u001b[0;34m.\u001b[0m\u001b[0mfind\u001b[0m\u001b[0;34m(\u001b[0m\u001b[0;34m'img'\u001b[0m\u001b[0;34m,\u001b[0m \u001b[0;34m\"fancybox-image\"\u001b[0m\u001b[0;34m)\u001b[0m\u001b[0;34m\u001b[0m\u001b[0;34m\u001b[0m\u001b[0m\n\u001b[1;32m     10\u001b[0m \u001b[0;34m\u001b[0m\u001b[0m\n\u001b[0;32m---> 11\u001b[0;31m \u001b[0mfeatured_image_url\u001b[0m \u001b[0;34m=\u001b[0m \u001b[0;34m'https://www.jpl.nasa.gov'\u001b[0m\u001b[0;34m+\u001b[0m \u001b[0mimg\u001b[0m\u001b[0;34m[\u001b[0m\u001b[0;34m'src'\u001b[0m\u001b[0;34m]\u001b[0m\u001b[0;34m\u001b[0m\u001b[0;34m\u001b[0m\u001b[0m\n\u001b[0m\u001b[1;32m     12\u001b[0m \u001b[0mfeatured_image_url\u001b[0m\u001b[0;34m\u001b[0m\u001b[0;34m\u001b[0m\u001b[0m\n",
      "\u001b[0;31mTypeError\u001b[0m: 'NoneType' object is not subscriptable"
     ]
    }
   ],
   "source": [
    "#scrap the link for the Featured Image from https://www.jpl.nasa.gov/spaceimages.\\n\",\n",
    "url= 'https://www.jpl.nasa.gov/spaceimages/?search=&category=Mars'\n",
    "browser.visit(url)\n",
    "\n",
    "full_image = browser.find_by_id('full_image')\n",
    "full_image.click()\n",
    "\n",
    "soup = BeautifulSoup(browser.html, 'html.parser')\n",
    "img = soup.find('img', \"fancybox-image\")\n",
    "\n",
    "featured_image_url = 'https://www.jpl.nasa.gov'+ img['src']\n",
    "featured_image_url "
   ]
  },
  {
   "cell_type": "code",
   "execution_count": null,
   "metadata": {},
   "outputs": [],
   "source": [
    "#Mars Weather scraping    \n",
    "url= 'https://twitter.com/marswxreport?lang=en'\n",
    "response = requests.get(url)\n",
    "soup = BeautifulSoup(response.content, 'html.parser')\n",
    "print(soup.prettify)"
   ]
  },
  {
   "cell_type": "code",
   "execution_count": null,
   "metadata": {},
   "outputs": [],
   "source": [
    "#Parse through data\n",
    "tweet = soup.find_all('div', \"tweet\")\n",
    "mars_weather = tweet[0].find('p', class_= \\\n",
    "\"TweetTextSize TweetTextSize--normal js-tweet-text tweet-text\").text\n",
    "\n",
    "print(mars_weather)"
   ]
  },
  {
   "cell_type": "code",
   "execution_count": null,
   "metadata": {},
   "outputs": [],
   "source": [
    "#Looking through the Mars facts webpage\n",
    "url = 'https://space-facts.com/mars/'\n",
    "tables = pd.read_html(url)\n",
    "len(tables)"
   ]
  },
  {
   "cell_type": "code",
   "execution_count": null,
   "metadata": {},
   "outputs": [],
   "source": [
    "df=tables[2]\n",
    "df.columns = ['description', 'value']\n",
    "df.set_index('description', inplace=True)\n",
    "html_table = df.to_html()\n",
    "print(html_table)"
   ]
  },
  {
   "cell_type": "code",
   "execution_count": null,
   "metadata": {},
   "outputs": [],
   "source": [
    "#Mars hemispheres\n",
    "!which chromedriver \n",
    "executable_path = {'executable_path': '/usr/local/bin/chromedriver'}\n",
    "browser = Browser('chrome', **executable_path, headless=False)"
   ]
  },
  {
   "cell_type": "code",
   "execution_count": null,
   "metadata": {},
   "outputs": [],
   "source": [
    "#Visiting website\n",
    "url= 'https://astrogeology.usgs.gov/search/results?q=hemisphere+enhanced&k1=target&v1=Mars'\n",
    "browser.visit(url)\n",
    "html = browser.html"
   ]
  },
  {
   "cell_type": "code",
   "execution_count": null,
   "metadata": {},
   "outputs": [],
   "source": [
    "soup = BeautifulSoup(html, 'html.parser')\n",
    "elements = soup.find_all('div', class_=\"item\")\n",
    "titles=[]\n",
    "urls = []\n",
    "for element in elements:\n",
    "    title=element.h3.text\n",
    "    partial_url =element.a['href']\n",
    "    titles.append(title)\n",
    "    urls.append('https://astrogeology.usgs.gov'+partial_url)\n",
    "    print(title)\n",
    "    print(partial_url)"
   ]
  },
  {
   "cell_type": "code",
   "execution_count": null,
   "metadata": {},
   "outputs": [],
   "source": [
    "#Scraping the high resolution images\n",
    "hi_res =[]\n",
    "for url in urls:\n",
    "    browser.visit(url)\n",
    "    soup = BeautifulSoup(browser.html, 'html.parser')\n",
    "    img_url = soup.find('div', 'downloads')\n",
    "    picture=img_url.a['href']\n",
    "    hi_res.append(picture)\n",
    "    print(picture)"
   ]
  },
  {
   "cell_type": "code",
   "execution_count": null,
   "metadata": {},
   "outputs": [],
   "source": [
    "#Creatings dictionaries\n",
    "data = {'titles': titles, 'imag_HR': hi_res}\n",
    "Hemisphere_image_urls= pd.DataFrame(data)\n",
    "Hemisphere_image_urls.head()"
   ]
  },
  {
   "cell_type": "code",
   "execution_count": null,
   "metadata": {},
   "outputs": [],
   "source": []
  }
 ],
 "metadata": {
  "kernelspec": {
   "display_name": "Python 3",
   "language": "python",
   "name": "python3"
  },
  "language_info": {
   "codemirror_mode": {
    "name": "ipython",
    "version": 3
   },
   "file_extension": ".py",
   "mimetype": "text/x-python",
   "name": "python",
   "nbconvert_exporter": "python",
   "pygments_lexer": "ipython3",
   "version": "3.7.3"
  }
 },
 "nbformat": 4,
 "nbformat_minor": 2
}
